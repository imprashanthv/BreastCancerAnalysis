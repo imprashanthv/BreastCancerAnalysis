{
 "cells": [
  {
   "cell_type": "markdown",
   "id": "c132966c",
   "metadata": {},
   "source": [
    "### Necessary Imports"
   ]
  },
  {
   "cell_type": "code",
   "execution_count": 1,
   "id": "75e1a93d",
   "metadata": {},
   "outputs": [],
   "source": [
    "#datasets\n",
    "from sklearn import datasets\n",
    "#preprocessing\n",
    "from sklearn.preprocessing import StandardScaler\n",
    "#clustering\n",
    "from sklearn.cluster import KMeans, AgglomerativeClustering\n",
    "#metrics\n",
    "from sklearn.metrics import adjusted_rand_score\n",
    "from sklearn.metrics import homogeneity_completeness_v_measure as hcv\n",
    "#visualization\n",
    "import matplotlib.pyplot as plt"
   ]
  },
  {
   "cell_type": "markdown",
   "id": "43d736bb",
   "metadata": {},
   "source": [
    "### Load the dataset"
   ]
  },
  {
   "cell_type": "code",
   "execution_count": 2,
   "id": "94936925",
   "metadata": {},
   "outputs": [],
   "source": [
    "bcw = datasets.load_breast_cancer()"
   ]
  },
  {
   "cell_type": "markdown",
   "id": "cd2e171c",
   "metadata": {},
   "source": [
    "### Separate the dataset into features and classes (X and y)"
   ]
  },
  {
   "cell_type": "code",
   "execution_count": 3,
   "id": "2c18f12e",
   "metadata": {},
   "outputs": [],
   "source": [
    "X = bcw.data\n",
    "y = bcw.target"
   ]
  },
  {
   "cell_type": "markdown",
   "id": "5869b087",
   "metadata": {},
   "source": [
    "### K-Means Clustering"
   ]
  },
  {
   "cell_type": "code",
   "execution_count": 4,
   "id": "fe5d1c72",
   "metadata": {},
   "outputs": [],
   "source": [
    "kmc = KMeans()\n",
    "kmc.fit(X)\n",
    "y_pred = kmc.predict(X)"
   ]
  },
  {
   "cell_type": "markdown",
   "id": "f42b59f5",
   "metadata": {},
   "source": [
    "### Agglomerative Clustering"
   ]
  },
  {
   "cell_type": "code",
   "execution_count": 5,
   "id": "1f4f90af",
   "metadata": {},
   "outputs": [],
   "source": [
    "agg_clus = AgglomerativeClustering()\n",
    "y_pred_agg = agg_clus.fit_predict(X)"
   ]
  },
  {
   "cell_type": "markdown",
   "id": "6843e464",
   "metadata": {},
   "source": [
    "### Quantifying the results"
   ]
  },
  {
   "cell_type": "code",
   "execution_count": 6,
   "id": "f4a3c5a8",
   "metadata": {},
   "outputs": [
    {
     "name": "stdout",
     "output_type": "stream",
     "text": [
      "Scores for  KMeans Clustering\n",
      "Adjusted rand score:  0.233\n",
      "homogeneity score:  0.63\n",
      "completeness score:  0.244\n",
      "vmeasure score:  0.352\n",
      "******************************\n",
      "Scores for  Agglomerative Clustering\n",
      "Adjusted rand score:  0.287\n",
      "homogeneity score:  0.262\n",
      "completeness score:  0.408\n",
      "vmeasure score:  0.319\n",
      "******************************\n"
     ]
    }
   ],
   "source": [
    "def quantify_clustering(clustering,y_pred, y):\n",
    "    print(\"Scores for \",clustering)\n",
    "    print(\"Adjusted rand score: \",round(adjusted_rand_score(y_pred, y),3))\n",
    "    score_names = ['homogeneity', 'completeness', 'vmeasure']\n",
    "    for score,name in zip(hcv(y, y_pred),score_names):\n",
    "        print(name,\"score: \",round(score,3))\n",
    "    print(\"*\"*30)\n",
    "    \n",
    "quantify_clustering('KMeans Clustering',y_pred,y)\n",
    "quantify_clustering('Agglomerative Clustering', y_pred_agg,y)"
   ]
  },
  {
   "cell_type": "markdown",
   "id": "ee8afd0d",
   "metadata": {},
   "source": [
    "### Improving the results"
   ]
  },
  {
   "cell_type": "markdown",
   "id": "c5836c20",
   "metadata": {},
   "source": [
    "### Scaling the dataset"
   ]
  },
  {
   "cell_type": "code",
   "execution_count": 7,
   "id": "7c38758a",
   "metadata": {},
   "outputs": [],
   "source": [
    "scaler = StandardScaler()\n",
    "X = scaler.fit_transform(X)"
   ]
  },
  {
   "cell_type": "markdown",
   "id": "420d6759",
   "metadata": {},
   "source": [
    "### Changing the parameters KMeans"
   ]
  },
  {
   "cell_type": "code",
   "execution_count": 8,
   "id": "f895f80d",
   "metadata": {},
   "outputs": [],
   "source": [
    "kmc2 = KMeans(n_clusters=2)\n",
    "kmc2.fit(X)\n",
    "y_pred_adjusted = kmc2.predict(X)"
   ]
  },
  {
   "cell_type": "markdown",
   "id": "9340ed42",
   "metadata": {},
   "source": [
    "### Fitting Agglomerative Clustering again with the scaled data"
   ]
  },
  {
   "cell_type": "code",
   "execution_count": 10,
   "id": "9d87a7e4",
   "metadata": {},
   "outputs": [],
   "source": [
    "agg_clus = AgglomerativeClustering()\n",
    "y_pred_agg_adjusted = agg_clus.fit_predict(X)"
   ]
  },
  {
   "cell_type": "markdown",
   "id": "7a5270ee",
   "metadata": {},
   "source": [
    "### Results after making changes"
   ]
  },
  {
   "cell_type": "code",
   "execution_count": 11,
   "id": "a3743060",
   "metadata": {},
   "outputs": [
    {
     "name": "stdout",
     "output_type": "stream",
     "text": [
      "Scores for  KMeans Clustering\n",
      "Adjusted rand score:  0.671\n",
      "homogeneity score:  0.544\n",
      "completeness score:  0.565\n",
      "vmeasure score:  0.555\n",
      "******************************\n",
      "Scores for  Agglomerative Clustering\n",
      "Adjusted rand score:  0.575\n",
      "homogeneity score:  0.446\n",
      "completeness score:  0.468\n",
      "vmeasure score:  0.457\n",
      "******************************\n"
     ]
    }
   ],
   "source": [
    "quantify_clustering('KMeans Clustering',y_pred_adjusted,y)\n",
    "quantify_clustering('Agglomerative Clustering', y_pred_agg_adjusted,y)"
   ]
  },
  {
   "cell_type": "code",
   "execution_count": 25,
   "id": "830d1d06",
   "metadata": {},
   "outputs": [
    {
     "name": "stdout",
     "output_type": "stream",
     "text": [
      "Scores for  k =1\n",
      "Adjusted rand score:  0.0\n",
      "homogeneity score:  0.0\n",
      "completeness score:  1.0\n",
      "vmeasure score:  0.0\n",
      "******************************\n",
      "Scores for  k =2\n",
      "Adjusted rand score:  0.671\n",
      "homogeneity score:  0.544\n",
      "completeness score:  0.565\n",
      "vmeasure score:  0.555\n",
      "******************************\n",
      "Scores for  k =3\n",
      "Adjusted rand score:  0.511\n",
      "homogeneity score:  0.503\n",
      "completeness score:  0.364\n",
      "vmeasure score:  0.422\n",
      "******************************\n",
      "Scores for  k =4\n",
      "Adjusted rand score:  0.609\n",
      "homogeneity score:  0.646\n",
      "completeness score:  0.403\n",
      "vmeasure score:  0.496\n",
      "******************************\n",
      "Scores for  k =5\n",
      "Adjusted rand score:  0.334\n",
      "homogeneity score:  0.647\n",
      "completeness score:  0.293\n",
      "vmeasure score:  0.403\n",
      "******************************\n",
      "Scores for  k =6\n",
      "Adjusted rand score:  0.332\n",
      "homogeneity score:  0.686\n",
      "completeness score:  0.294\n",
      "vmeasure score:  0.412\n",
      "******************************\n",
      "Scores for  k =7\n",
      "Adjusted rand score:  0.258\n",
      "homogeneity score:  0.704\n",
      "completeness score:  0.26\n",
      "vmeasure score:  0.379\n",
      "******************************\n",
      "Scores for  k =8\n",
      "Adjusted rand score:  0.222\n",
      "homogeneity score:  0.728\n",
      "completeness score:  0.25\n",
      "vmeasure score:  0.372\n",
      "******************************\n",
      "Scores for  k =9\n",
      "Adjusted rand score:  0.213\n",
      "homogeneity score:  0.693\n",
      "completeness score:  0.235\n",
      "vmeasure score:  0.351\n",
      "******************************\n"
     ]
    }
   ],
   "source": [
    "accuracies = []\n",
    "for i in range(1, 10):\n",
    "    kmc2 = KMeans(n_clusters=i)\n",
    "    kmc2.fit(X)\n",
    "    y_pred_adjusted = kmc2.predict(X)\n",
    "    quantify_clustering('k ='+str(i), y_pred_adjusted, y)"
   ]
  },
  {
   "cell_type": "code",
   "execution_count": null,
   "id": "815f9227",
   "metadata": {},
   "outputs": [],
   "source": []
  }
 ],
 "metadata": {
  "kernelspec": {
   "display_name": "Python 3",
   "language": "python",
   "name": "python3"
  },
  "language_info": {
   "codemirror_mode": {
    "name": "ipython",
    "version": 3
   },
   "file_extension": ".py",
   "mimetype": "text/x-python",
   "name": "python",
   "nbconvert_exporter": "python",
   "pygments_lexer": "ipython3",
   "version": "3.8.8"
  }
 },
 "nbformat": 4,
 "nbformat_minor": 5
}
